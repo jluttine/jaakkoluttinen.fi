{
 "cells": [
  {
   "cell_type": "code",
   "execution_count": 5,
   "metadata": {
    "collapsed": false
   },
   "outputs": [
    {
     "data": {
      "text/plain": [
       "array([-1.74544708,  0.72523622,  0.51548233,  0.39092518,  0.92711162])"
      ]
     },
     "execution_count": 5,
     "metadata": {},
     "output_type": "execute_result"
    }
   ],
   "source": [
    "import numpy as np\n",
    "np.random.randn(5)"
   ]
  },
  {
   "cell_type": "code",
   "execution_count": 4,
   "metadata": {
    "collapsed": false
   },
   "outputs": [
    {
     "data": {
      "image/png": "[encoded data removed]",
      "text/plain": [
       "<matplotlib.figure.Figure at 0x7f25a11bb0f0>"
      ]
     },
     "metadata": {},
     "output_type": "display_data"
    }
   ],
   "source": [
    "%matplotlib inline\n",
    "import matplotlib.pyplot as plt\n",
    "plt.scatter(np.random.randn(1000), np.random.randn(1000));"
   ]
  },
  {
   "cell_type": "markdown",
   "metadata": {},
   "source": [
    "\n",
    "http://www.damian.oquanta.info/posts/blogging-with-nikola-and-ipython.html\n",
    "\n",
    "http://sampathweb.com/posts/blogging-made-easy.html\n",
    "\n",
    "\n",
    "# Setup the environment\n",
    "\n",
    "blah\n",
    "\n",
    "    mkdir -p /path/to/blog\n",
    "    cd /path/to/blog\n",
    "\n",
    "    virtualenv --system-site-packages --prompt=\"(blog)\" ENV\n",
    "    source ENV/bin/activate\n",
    "    \n",
    "Install NumPy, SciPy, Matplotlib and Pandoc using the package manager of your system. Install Nikola to your virtual environment with some useful extra packages:\n",
    "\n",
    "    pip install nikola[extras]\n",
    "\n",
    "\n",
    "# Create the site\n",
    "\n",
    "    nikola init /path/to/blog\n",
    "    cd /path/to/blog\n",
    "\n",
    "Edit conf.py and add the following (you don't need to :\n",
    "\n",
    "    POSTS = (\n",
    "        (\"posts/*.ipynb\", \"posts\", \"post.tmpl\"),\n",
    "        (\"posts/*.md\", \"posts\", \"post.tmpl\"),\n",
    "        (\"posts/*.rst\", \"posts\", \"post.tmpl\"),\n",
    "        (\"posts/*.txt\", \"posts\", \"post.tmpl\"),\n",
    "    )\n",
    "    PAGES = (\n",
    "        (\"pages/*.md\", \"pages\", \"story.tmpl\"),\n",
    "        (\"pages/*.ipynb\", \"pages\", \"story.tmpl\"),\n",
    "        (\"pages/*.rst\", \"stories\", \"story.tmpl\"),\n",
    "        (\"pages/*.txt\", \"stories\", \"story.tmpl\"),\n",
    "    )\n",
    "\n",
    "The first entries are used as defaults. With these settings, blog posts would be IPython Notebooks and pages Markdown files by default if no format is specified.\n",
    "\n",
    "\n",
    "# Initialize git\n",
    "\n",
    "Initializing git for the blog requires a few extra steps if we want to deploy the site to GitHub user/organization pages. First, initialize the repository:\n",
    "\n",
    "    git init\n",
    "    \n",
    "Nikola reserves `master` branch for deploying the static output, so use, for instance, `source` branch for the source code:\n",
    "\n",
    "    git checkout --orphan source\n",
    "    \n",
    "Also, `origin` remote is reserved for the deployment remote, so use, for instance, `github` remote to store the source code repository:\n",
    "\n",
    "    git remote add github https://github.com/jluttine/jaakkoluttinen.fi.git\n",
    "    \n",
    "Then just make an initial commit:\n",
    "\n",
    "    git add *\n",
    "    git commit -am \"Initial commit\"\n",
    "    git push github -u\n",
    "\n",
    "\n",
    "# Create content\n",
    "\n",
    "Create your first blog post and answer a few questions:\n",
    "\n",
    "    nikola new_post -f ipynb\n",
    "\n",
    "Create your first page and answer a few questions:\n",
    "\n",
    "    nikola new_page -f markdown\n",
    "    \n",
    "It isn't necessary to specify `-f format` if you want to use the default format. In order to edit the blog post, launch IPython Notebook:\n",
    "\n",
    "    ipython notebook posts\n",
    "\n",
    "In order to see your site, use Nikola to automatically refresh your site at http://127.0.0.1:8000/:\n",
    "\n",
    "    nikola auto\n",
    "\n",
    "Both of these processes will block your terminal until you stop them. Thus, I recommend opening separate dedicated terminals for the processes so they can run in the background without blocking your working terminal.\n",
    "\n",
    "\n",
    "# Deploy to GitHub pages\n",
    "\n",
    "Because the compiled website is static, there are lots of options where to serve your website. GitHub is a convenient place to deploy, so here are basic instructions for that. But you could use any other location and define your own `DEPLOY_COMMANDS` in `conf.py` to be used when running `nikola deploy`. For GitHub pages, you can use `nikola github_deploy`.\n",
    "\n",
    "Currently, `nikola github_deploy` works only if the remote name for serving the static pages is `origin`. Thus, use `origin` that purpose:\n",
    "\n",
    "    git remote add origin https://github.com/jluttine/jluttine.github.com.git\n",
    "\n",
    "    GITHUB_SOURCE_BRANCH = 'source'\n",
    "    GITHUB_DEPLOY_BRANCH = 'master'\n",
    "    GITHUB_REMOTE_NAME = 'origin'\n",
    "\n",
    "Before proceeding, commit your current changes to `source` branch.\n",
    "\n",
    "    git checkout --orphan master\n",
    "    git reset\n",
    "    git commit --allow-empty -m \"Create deploy branch\"\n",
    "    git push origin master:master -u\n",
    "    git checkout -f source\n",
    "\n",
    "If you are using a custom domain name, add `CNAME` to `files` directory:\n",
    "\n",
    "    echo www.jaakkoluttinen.fi > files/CNAME\n",
    "\n",
    "Deploy the static site to GitHub:\n",
    "\n",
    "    nikola github_deploy\n",
    "\n",
    "Now your blog should be running, go and check out.\n"
   ]
  },
  {
   "cell_type": "code",
   "execution_count": null,
   "metadata": {
    "collapsed": true
   },
   "outputs": [],
   "source": []
  }
 ],
 "metadata": {
  "kernelspec": {
   "display_name": "Python 3",
   "language": "python",
   "name": "python3"
  },
  "language_info": {
   "codemirror_mode": {
    "name": "ipython",
    "version": 3
   },
   "file_extension": ".py",
   "mimetype": "text/x-python",
   "name": "python",
   "nbconvert_exporter": "python",
   "pygments_lexer": "ipython3",
   "version": "3.5.0"
  }
 },
 "nbformat": 4,
 "nbformat_minor": 0
}
